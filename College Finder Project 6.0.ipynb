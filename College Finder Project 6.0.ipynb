{
 "cells": [
  {
   "cell_type": "markdown",
   "id": "09a7187e",
   "metadata": {},
   "source": [
    "## Project 6.0"
   ]
  },
  {
   "cell_type": "markdown",
   "id": "6e0303cd",
   "metadata": {},
   "source": [
    "# Bulk File Renamer"
   ]
  },
  {
   "cell_type": "code",
   "execution_count": 1,
   "id": "aac8c613",
   "metadata": {},
   "outputs": [],
   "source": [
    "import os"
   ]
  },
  {
   "cell_type": "code",
   "execution_count": 4,
   "id": "2888b9c3",
   "metadata": {},
   "outputs": [],
   "source": [
    "def renamer():\n",
    "    i=0    # initiate/iterate over files or lists\n",
    "    path = \"C:\\\\Users\\\\Sana\\\\flowers\\\\\"\n",
    "    for filename in os.listdir(path):\n",
    "        names = f\"pic {i}.jpg\"\n",
    "        src = path + filename\n",
    "        dest = path + names\n",
    "        \n",
    "        os.rename(src,dest)\n",
    "        i = i+1\n",
    "        \n",
    "if __name__ == \"__main__\":\n",
    "    renamer()"
   ]
  },
  {
   "cell_type": "code",
   "execution_count": null,
   "id": "10bc1267",
   "metadata": {},
   "outputs": [],
   "source": []
  }
 ],
 "metadata": {
  "kernelspec": {
   "display_name": "Python 3",
   "language": "python",
   "name": "python3"
  },
  "language_info": {
   "codemirror_mode": {
    "name": "ipython",
    "version": 3
   },
   "file_extension": ".py",
   "mimetype": "text/x-python",
   "name": "python",
   "nbconvert_exporter": "python",
   "pygments_lexer": "ipython3",
   "version": "3.8.8"
  }
 },
 "nbformat": 4,
 "nbformat_minor": 5
}
