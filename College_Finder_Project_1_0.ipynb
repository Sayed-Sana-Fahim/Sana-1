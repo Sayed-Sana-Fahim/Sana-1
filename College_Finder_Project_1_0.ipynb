{
  "cells": [
    {
      "cell_type": "markdown",
      "metadata": {
        "id": "view-in-github",
        "colab_type": "text"
      },
      "source": [
        "<a href=\"https://colab.research.google.com/github/Sayed-Sana-Fahim/Sana-1/blob/main/College_Finder_Project_1_0.ipynb\" target=\"_parent\"><img src=\"https://colab.research.google.com/assets/colab-badge.svg\" alt=\"Open In Colab\"/></a>"
      ]
    },
    {
      "cell_type": "markdown",
      "id": "2159cdba",
      "metadata": {
        "id": "2159cdba"
      },
      "source": [
        "# Project 1.0"
      ]
    },
    {
      "cell_type": "markdown",
      "id": "98ae382d",
      "metadata": {
        "id": "98ae382d"
      },
      "source": [
        "## Student Portfolio"
      ]
    },
    {
      "cell_type": "markdown",
      "id": "6e4f6452",
      "metadata": {
        "id": "6e4f6452"
      },
      "source": [
        "User input: \n",
        "1. Name of the student\n",
        "2. Std,Div\n",
        "3. Roll No.\n",
        "4. Marks obtained in any three subjects"
      ]
    },
    {
      "cell_type": "code",
      "execution_count": null,
      "id": "4b066b6a",
      "metadata": {
        "id": "4b066b6a",
        "outputId": "b03c95db-2b5d-4b14-d47b-0d78fad8dbdb"
      },
      "outputs": [
        {
          "name": "stdout",
          "output_type": "stream",
          "text": [
            "Please enter your following details for making Student Portfolio : \n",
            "\n",
            "Name : Pragati Singh\n",
            "Current Standard : 11\n",
            "Division : A\n",
            "Roll No. : 24\n",
            "\n",
            "Marks obtained in Mathematics : 96\n",
            "Marks obtained in Physics : 84\n",
            "Marks obtained in Chemistry : 73\n",
            "\n",
            "Thanks for uploading the necessary details!\n"
          ]
        }
      ],
      "source": [
        "print(\"Please enter your following details for making Student Portfolio : \")\n",
        "name = input(\"\\nName : \")\n",
        "std = input(\"Current Standard : \")\n",
        "div = input(\"Division : \")\n",
        "roll = input(\"Roll No. : \")\n",
        "mat = int(input(\"\\nMarks obtained in Mathematics : \"))\n",
        "phy = int(input(\"Marks obtained in Physics : \"))\n",
        "chem = int(input(\"Marks obtained in Chemistry : \"))\n",
        "print(\"\\nThanks for uploading the necessary details!\")"
      ]
    },
    {
      "cell_type": "markdown",
      "id": "7ffbe350",
      "metadata": {
        "id": "7ffbe350"
      },
      "source": [
        "## Student's Marksheet"
      ]
    },
    {
      "cell_type": "code",
      "execution_count": null,
      "id": "78418d6f",
      "metadata": {
        "id": "78418d6f",
        "outputId": "09b74140-8982-4607-c000-7ac490ea1d4f"
      },
      "outputs": [
        {
          "name": "stdout",
          "output_type": "stream",
          "text": [
            "\n",
            "Student Details : \n",
            "******************\n",
            "\n",
            "Name of the student :  Pragati Singh\n",
            "Standard :  11\n",
            "Division :  A\n",
            "Roll No. :  24\n",
            "\n",
            "Statement of Marks : \n",
            "*********************\n",
            "\n",
            "Mathematics :  96 / 100\n",
            "Physics :  84 / 100\n",
            "Chemistry :  73 / 100\n",
            "\n",
            "Total marks obtained :  253 / 300\n",
            "Percentage :  84.33333333333333 %\n",
            "\n",
            "Result : Passed\n",
            "\n",
            "Remark : \n",
            "**********\n",
            "\n",
            "Well Done!\n",
            "Aim for higher.\n"
          ]
        }
      ],
      "source": [
        "print(\"\\nStudent Details : \")\n",
        "print(\"*\"*18)\n",
        "print(\"\\nName of the student : \",name)\n",
        "print(\"Standard : \",std)\n",
        "print(\"Division : \",div)\n",
        "print(\"Roll No. : \",roll)\n",
        "print(\"\\nStatement of Marks : \")\n",
        "print(\"*\"*21)\n",
        "print(\"\\nMathematics : \",mat,\"/ 100\")\n",
        "print(\"Physics : \",phy,\"/ 100\")\n",
        "print(\"Chemistry : \",chem,\"/ 100\")\n",
        "total = mat+phy+chem\n",
        "print(\"\\nTotal marks obtained : \",total,\"/ 300\")\n",
        "print(\"Percentage : \",total/3,\"%\",)\n",
        "print(\"\\nResult : Passed\")\n",
        "print(\"\\nRemark : \")\n",
        "print(\"*\"*10)\n",
        "print(\"\\nWell Done!\\nAim for higher.\")"
      ]
    },
    {
      "cell_type": "code",
      "execution_count": null,
      "id": "957269f0",
      "metadata": {
        "id": "957269f0"
      },
      "outputs": [],
      "source": [
        ""
      ]
    }
  ],
  "metadata": {
    "kernelspec": {
      "display_name": "Python 3",
      "language": "python",
      "name": "python3"
    },
    "language_info": {
      "codemirror_mode": {
        "name": "ipython",
        "version": 3
      },
      "file_extension": ".py",
      "mimetype": "text/x-python",
      "name": "python",
      "nbconvert_exporter": "python",
      "pygments_lexer": "ipython3",
      "version": "3.8.8"
    },
    "colab": {
      "name": "College Finder Project 1.0.ipynb",
      "provenance": [],
      "include_colab_link": true
    }
  },
  "nbformat": 4,
  "nbformat_minor": 5
}