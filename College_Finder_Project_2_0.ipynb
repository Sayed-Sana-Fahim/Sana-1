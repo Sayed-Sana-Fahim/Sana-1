{
  "cells": [
    {
      "cell_type": "markdown",
      "metadata": {
        "id": "view-in-github",
        "colab_type": "text"
      },
      "source": [
        "<a href=\"https://colab.research.google.com/github/Sayed-Sana-Fahim/Sana-1/blob/main/College_Finder_Project_2_0.ipynb\" target=\"_parent\"><img src=\"https://colab.research.google.com/assets/colab-badge.svg\" alt=\"Open In Colab\"/></a>"
      ]
    },
    {
      "cell_type": "markdown",
      "id": "c3068c53",
      "metadata": {
        "id": "c3068c53"
      },
      "source": [
        "# Project 2.0"
      ]
    },
    {
      "cell_type": "markdown",
      "id": "2afe3101",
      "metadata": {
        "id": "2afe3101"
      },
      "source": [
        "## Rock, Paper & Scissors"
      ]
    },
    {
      "cell_type": "code",
      "execution_count": null,
      "id": "afe7cefc",
      "metadata": {
        "id": "afe7cefc",
        "outputId": "7b82ce13-7379-4232-f680-79c0da702175"
      },
      "outputs": [
        {
          "name": "stdout",
          "output_type": "stream",
          "text": [
            "Choose among r/p/s [rock/paper/scissors] : \n",
            "s\n",
            "Choose among r/p/s [rock/paper/scissors] : \n",
            "s\n",
            "\n",
            "Player_1 choose s and Player_2 choose s.\n",
            "\n",
            "That's a tie!\n"
          ]
        }
      ],
      "source": [
        "player_1 = str(input(\"Choose among r/p/s [rock/paper/scissors] : \\n\"))\n",
        "player_2 = str(input(\"Choose among r/p/s [rock/paper/scissors] : \\n\"))\n",
        "\n",
        "# for Rock\n",
        "if (player_1=='r') and (player_2=='r'):\n",
        "    print(\"\\nPlayer_1 choose {opt1} and Player_2 choose {opt2}.\".format(opt1=player_1,opt2=player_2))\n",
        "    print(\"\\nThat's a tie!\")\n",
        "elif (player_1=='r') and (player_2=='p'):\n",
        "    print(\"\\nPlayer_1 choose {opt1} and Player_2 choose {opt2}.\".format(opt1=player_1,opt2=player_2))\n",
        "    print(\"\\nPlayer_2 has won the game!\")\n",
        "elif (player_1=='r') and (player_2=='s'):\n",
        "    print(\"\\nPlayer_1 choose {opt1} and Player_2 choose {opt2}.\".format(opt1=player_1,opt2=player_2))\n",
        "    print(\"\\nPlayer_1 has won the game!\") \n",
        "    \n",
        "# for Paper\n",
        "elif (player_1=='p') and (player_2=='p'):\n",
        "    print(\"\\nPlayer_1 choose {opt1} and Player_2 choose {opt2}.\".format(opt1=player_1,opt2=player_2))\n",
        "    print(\"\\nThat's a tie!\")\n",
        "elif (player_1=='p') and (player_2=='s'):\n",
        "    print(\"\\nPlayer_1 choose {opt1} and Player_2 choose {opt2}.\".format(opt1=player_1,opt2=player_2))\n",
        "    print(\"\\nPlayer_2 has won the game!\")\n",
        "elif (player_1=='p') and (player_2=='r'):\n",
        "    print(\"\\nPlayer_1 choose {opt1} and Player_2 choose {opt2}.\".format(opt1=player_1,opt2=player_2))\n",
        "    print(\"\\nPlayer_1 has won the game!\") \n",
        "    \n",
        "# for scissors\n",
        "elif (player_1=='s') and (player_2=='s'):\n",
        "    print(\"\\nPlayer_1 choose {opt1} and Player_2 choose {opt2}.\".format(opt1=player_1,opt2=player_2))\n",
        "    print(\"\\nThat's a tie!\")\n",
        "elif (player_1=='s') and (player_2=='r'):\n",
        "    print(\"\\nPlayer_1 choose {opt1} and Player_2 choose {opt2}.\".format(opt1=player_1,opt2=player_2))\n",
        "    print(\"\\nPlayer_2 has won the game!\")\n",
        "elif (player_1=='s') and (player_2=='p'):\n",
        "    print(\"\\nPlayer_1 choose {opt1} and Player_2 choose {opt2}.\".format(opt1=player_1,opt2=player_2))\n",
        "    print(\"\\nPlayer_1 has won the game!\")\n",
        "    \n",
        "# for error\n",
        "else:\n",
        "    print(\"\\n!!! ERROR !!!\\nChoose correct option.\")"
      ]
    },
    {
      "cell_type": "code",
      "execution_count": null,
      "id": "71cecc8e",
      "metadata": {
        "id": "71cecc8e"
      },
      "outputs": [],
      "source": [
        ""
      ]
    }
  ],
  "metadata": {
    "kernelspec": {
      "display_name": "Python 3",
      "language": "python",
      "name": "python3"
    },
    "language_info": {
      "codemirror_mode": {
        "name": "ipython",
        "version": 3
      },
      "file_extension": ".py",
      "mimetype": "text/x-python",
      "name": "python",
      "nbconvert_exporter": "python",
      "pygments_lexer": "ipython3",
      "version": "3.8.8"
    },
    "colab": {
      "name": "College Finder Project 2.0.ipynb",
      "provenance": [],
      "include_colab_link": true
    }
  },
  "nbformat": 4,
  "nbformat_minor": 5
}