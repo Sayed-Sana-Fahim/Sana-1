{
  "cells": [
    {
      "cell_type": "markdown",
      "metadata": {
        "id": "view-in-github",
        "colab_type": "text"
      },
      "source": [
        "<a href=\"https://colab.research.google.com/github/Sayed-Sana-Fahim/Sana-1/blob/main/College_Finder_Project_4_0.ipynb\" target=\"_parent\"><img src=\"https://colab.research.google.com/assets/colab-badge.svg\" alt=\"Open In Colab\"/></a>"
      ]
    },
    {
      "cell_type": "markdown",
      "id": "760f02aa",
      "metadata": {
        "id": "760f02aa"
      },
      "source": [
        "# Real Calculator"
      ]
    },
    {
      "cell_type": "code",
      "execution_count": null,
      "id": "76a6a3f9",
      "metadata": {
        "id": "76a6a3f9"
      },
      "outputs": [],
      "source": [
        "def add(a,b):\n",
        "    addition = a+b\n",
        "    print(f\"The sum of {a} and {b} is {addition}.\")\n",
        "    \n",
        "def subtract(a,b):\n",
        "    subtraction = a-b\n",
        "    print(f\"The result of subtracting {b} from {a} is {subtraction}.\")\n",
        "    \n",
        "def multiply(a,b):\n",
        "    multiplication = a*b\n",
        "    print(f\"The multiplication of {a} and {b} is {multiplication}.\")\n",
        "    \n",
        "def divide(a,b):\n",
        "    division = a/b\n",
        "    print(f\"The division of {a} and {b} is {division}.\")\n",
        "    \n",
        "def modulo(a,b):\n",
        "    remainder = a%b\n",
        "    print(f\"The remainder of {a} divided by {b} is {remainder}.\")\n",
        "    \n",
        "def quo(a,b):\n",
        "    quotient = a+b\n",
        "    print(f\"The quotient of {a} divided by {b} is {quotient}.\")    "
      ]
    },
    {
      "cell_type": "code",
      "execution_count": null,
      "id": "45a7509b",
      "metadata": {
        "id": "45a7509b",
        "outputId": "7605f651-8938-4fc7-e7e6-2544c79b1146"
      },
      "outputs": [
        {
          "name": "stdout",
          "output_type": "stream",
          "text": [
            "Enter your equation: 47 / 8\n",
            "The division of 47 and 8 is 5.875.\n"
          ]
        }
      ],
      "source": [
        "number1,operator,number2 = map(str, input(\"Enter your equation: \").split())\n",
        "number1 = int(number1)\n",
        "number2 = int(number2)\n",
        "\n",
        "if operator == '+':\n",
        "    add(number1, number2)\n",
        "    \n",
        "elif operator == '-':\n",
        "    subtract(number1, number2)\n",
        "    \n",
        "elif operator == '*':\n",
        "    multiply(number1, number2)\n",
        "    \n",
        "elif operator == '/':\n",
        "    divide(number1, number2)\n",
        "    \n",
        "elif operator == '%':\n",
        "    modulo(number1, number2)\n",
        "    \n",
        "elif operator == '//':\n",
        "    quo(number1, number2)\n",
        "    \n",
        "else:\n",
        "    print(\"Invalid typo Error: type something like: 8 / 4\")"
      ]
    },
    {
      "cell_type": "code",
      "execution_count": null,
      "id": "20e07546",
      "metadata": {
        "id": "20e07546"
      },
      "outputs": [],
      "source": [
        ""
      ]
    }
  ],
  "metadata": {
    "kernelspec": {
      "display_name": "Python 3",
      "language": "python",
      "name": "python3"
    },
    "language_info": {
      "codemirror_mode": {
        "name": "ipython",
        "version": 3
      },
      "file_extension": ".py",
      "mimetype": "text/x-python",
      "name": "python",
      "nbconvert_exporter": "python",
      "pygments_lexer": "ipython3",
      "version": "3.8.8"
    },
    "colab": {
      "name": "College Finder Project 4.0.ipynb",
      "provenance": [],
      "include_colab_link": true
    }
  },
  "nbformat": 4,
  "nbformat_minor": 5
}