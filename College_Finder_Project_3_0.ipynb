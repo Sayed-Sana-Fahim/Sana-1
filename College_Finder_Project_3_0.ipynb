{
  "cells": [
    {
      "cell_type": "markdown",
      "metadata": {
        "id": "view-in-github",
        "colab_type": "text"
      },
      "source": [
        "<a href=\"https://colab.research.google.com/github/Sayed-Sana-Fahim/Sana-1/blob/main/College_Finder_Project_3_0.ipynb\" target=\"_parent\"><img src=\"https://colab.research.google.com/assets/colab-badge.svg\" alt=\"Open In Colab\"/></a>"
      ]
    },
    {
      "cell_type": "markdown",
      "id": "94f2d24e",
      "metadata": {
        "id": "94f2d24e"
      },
      "source": [
        "# Tables"
      ]
    },
    {
      "cell_type": "code",
      "execution_count": null,
      "id": "46f2bf1c",
      "metadata": {
        "id": "46f2bf1c",
        "outputId": "a44653d1-7091-42ed-9c52-12a6f7cfe15d"
      },
      "outputs": [
        {
          "name": "stdout",
          "output_type": "stream",
          "text": [
            "Multiplication Table:\n",
            "Enter the number for the multiplication table: 14\n",
            "********************\n",
            "14 x 1 = 14\n",
            "14 x 2 = 28\n",
            "14 x 3 = 42\n",
            "14 x 4 = 56\n",
            "14 x 5 = 70\n",
            "14 x 6 = 84\n",
            "14 x 7 = 98\n",
            "14 x 8 = 112\n",
            "14 x 9 = 126\n",
            "14 x 10 = 140\n"
          ]
        }
      ],
      "source": [
        "print(\"Multiplication Table:\")\n",
        "n = int(input(\"Enter the number for the multiplication table: \"))\n",
        "print(\"*\"*20)\n",
        "for i in range(1,11):\n",
        "    print(n,\"x\",i,\"=\",n*i)"
      ]
    },
    {
      "cell_type": "code",
      "execution_count": null,
      "id": "5771fb3f",
      "metadata": {
        "id": "5771fb3f"
      },
      "outputs": [],
      "source": [
        ""
      ]
    }
  ],
  "metadata": {
    "kernelspec": {
      "display_name": "Python 3",
      "language": "python",
      "name": "python3"
    },
    "language_info": {
      "codemirror_mode": {
        "name": "ipython",
        "version": 3
      },
      "file_extension": ".py",
      "mimetype": "text/x-python",
      "name": "python",
      "nbconvert_exporter": "python",
      "pygments_lexer": "ipython3",
      "version": "3.8.8"
    },
    "colab": {
      "name": "College Finder Project 3.0.ipynb",
      "provenance": [],
      "include_colab_link": true
    }
  },
  "nbformat": 4,
  "nbformat_minor": 5
}